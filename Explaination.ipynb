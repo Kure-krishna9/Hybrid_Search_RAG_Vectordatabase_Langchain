{
 "cells": [
  {
   "cell_type": "markdown",
   "id": "aabb5912",
   "metadata": {},
   "source": [
    "## Hybrid Search\n",
    " ### Semanic Search\n",
    "      \n",
    "      Dence Vector Search--->Similar\n",
    "\n",
    " ### syntatic Search \n",
    "      \n",
    "      Exact Search-->keyword search-->parse vector search\n",
    "\n",
    "\n",
    "\n",
    "Sparce metrix-->if we converted embeding with ---> One hot encoding--->Bag of words--->TFIDF--->Text--->Parse matrix\n",
    "\n",
    "\n",
    "0001000<---- Saprce metrix --->one is defined as keyword\n",
    "\n",
    "how we can performe hybrid seach :\n",
    "\n",
    "\n",
    "semantic search and  syntatic search combine bothe result based on ranking of resul of bothe emebdings \n",
    "\n",
    "\n",
    "time score=sumation (1/(c+Rd))\n",
    "\n",
    "c-Dependent on verious Database\n",
    "Rd-Rank of d(document)\n",
    "1-->60\n",
    "\n",
    "=sumation(1/Rd)\n",
    "\n",
    "\n",
    "\n",
    "### Graph Knowledge \n",
    "\n",
    " it support -->Kyeword Search-->Semantic Search-->Graph Knoledge Search\n",
    "\n"
   ]
  },
  {
   "cell_type": "code",
   "execution_count": 14,
   "id": "02b35d09",
   "metadata": {},
   "outputs": [],
   "source": [
    "!pip install --upgrade --quiet pinecone pinecone-text pinecone-notebooks"
   ]
  },
  {
   "cell_type": "code",
   "execution_count": 15,
   "id": "228ba4be",
   "metadata": {},
   "outputs": [],
   "source": [
    "from langchain_community.retrievers import PineconeHybridSearchRetriever"
   ]
  },
  {
   "cell_type": "code",
   "execution_count": 21,
   "id": "5cea7302",
   "metadata": {},
   "outputs": [],
   "source": [
    "import os\n",
    "from pinecone import Pinecone,ServerlessSpec\n",
    "index_name=\"hybrid-search-langchain-pinecone\"\n",
    "## Initialize the Pinecone Client\n",
    "os.environ['PINECONE_API_KEY'] ='pcsk_4Ui4M6_NKUtFqRF8nPW1DQDFCPrMTgoE5D4fNeGiCjjVLN4moRMopLQnp4FVGbr4DU8CJH'\n",
    "pc=Pinecone(api_key=os.getenv(\"PINECONE_API_KEY\"))\n",
    "\n",
    "\n",
    "\n",
    "# create the index\n",
    "if index_name not in pc.list_indexes().names():\n",
    "    pc.create_index(\n",
    "        name=index_name,\n",
    "        dimension=384, #dimention of dens metrix vector\n",
    "        metric='dotproduct' ,# sparse value supportted only for dotproduct\n",
    "        spec=ServerlessSpec(cloud='aws',region='us-east-1'),\n",
    "    )"
   ]
  },
  {
   "cell_type": "code",
   "execution_count": 23,
   "id": "395c8371",
   "metadata": {},
   "outputs": [
    {
     "data": {
      "text/plain": [
       "<pinecone.db_data.index.Index at 0x1b9158f7b90>"
      ]
     },
     "execution_count": 23,
     "metadata": {},
     "output_type": "execute_result"
    }
   ],
   "source": [
    "index=pc.Index(index_name)\n",
    "index"
   ]
  },
  {
   "cell_type": "code",
   "execution_count": 25,
   "id": "24ac7182",
   "metadata": {},
   "outputs": [
    {
     "name": "stdout",
     "output_type": "stream",
     "text": [
      "Requirement already satisfied: sentence-transformers in f:\\study material\\nlp_rag _projects\\.venv\\lib\\site-packages (5.1.0)\n",
      "Requirement already satisfied: transformers<5.0.0,>=4.41.0 in f:\\study material\\nlp_rag _projects\\.venv\\lib\\site-packages (from sentence-transformers) (4.56.1)\n",
      "Requirement already satisfied: tqdm in f:\\study material\\nlp_rag _projects\\.venv\\lib\\site-packages (from sentence-transformers) (4.67.1)\n",
      "Requirement already satisfied: torch>=1.11.0 in f:\\study material\\nlp_rag _projects\\.venv\\lib\\site-packages (from sentence-transformers) (2.8.0)\n",
      "Requirement already satisfied: scikit-learn in f:\\study material\\nlp_rag _projects\\.venv\\lib\\site-packages (from sentence-transformers) (1.7.2)\n",
      "Requirement already satisfied: scipy in f:\\study material\\nlp_rag _projects\\.venv\\lib\\site-packages (from sentence-transformers) (1.16.2)\n",
      "Requirement already satisfied: huggingface-hub>=0.20.0 in f:\\study material\\nlp_rag _projects\\.venv\\lib\\site-packages (from sentence-transformers) (0.34.4)\n",
      "Requirement already satisfied: Pillow in f:\\study material\\nlp_rag _projects\\.venv\\lib\\site-packages (from sentence-transformers) (11.3.0)\n",
      "Requirement already satisfied: typing_extensions>=4.5.0 in f:\\study material\\nlp_rag _projects\\.venv\\lib\\site-packages (from sentence-transformers) (4.15.0)\n",
      "Requirement already satisfied: filelock in f:\\study material\\nlp_rag _projects\\.venv\\lib\\site-packages (from transformers<5.0.0,>=4.41.0->sentence-transformers) (3.19.1)\n",
      "Requirement already satisfied: numpy>=1.17 in f:\\study material\\nlp_rag _projects\\.venv\\lib\\site-packages (from transformers<5.0.0,>=4.41.0->sentence-transformers) (2.3.3)\n",
      "Requirement already satisfied: packaging>=20.0 in f:\\study material\\nlp_rag _projects\\.venv\\lib\\site-packages (from transformers<5.0.0,>=4.41.0->sentence-transformers) (24.2)\n",
      "Requirement already satisfied: pyyaml>=5.1 in f:\\study material\\nlp_rag _projects\\.venv\\lib\\site-packages (from transformers<5.0.0,>=4.41.0->sentence-transformers) (6.0.2)\n",
      "Requirement already satisfied: regex!=2019.12.17 in f:\\study material\\nlp_rag _projects\\.venv\\lib\\site-packages (from transformers<5.0.0,>=4.41.0->sentence-transformers) (2025.9.1)\n",
      "Requirement already satisfied: requests in f:\\study material\\nlp_rag _projects\\.venv\\lib\\site-packages (from transformers<5.0.0,>=4.41.0->sentence-transformers) (2.32.5)\n",
      "Collecting tokenizers<=0.23.0,>=0.22.0 (from transformers<5.0.0,>=4.41.0->sentence-transformers)\n",
      "  Downloading tokenizers-0.22.1-cp39-abi3-win_amd64.whl.metadata (6.9 kB)\n",
      "Requirement already satisfied: safetensors>=0.4.3 in f:\\study material\\nlp_rag _projects\\.venv\\lib\\site-packages (from transformers<5.0.0,>=4.41.0->sentence-transformers) (0.6.2)\n",
      "Requirement already satisfied: fsspec>=2023.5.0 in f:\\study material\\nlp_rag _projects\\.venv\\lib\\site-packages (from huggingface-hub>=0.20.0->sentence-transformers) (2025.9.0)\n",
      "Requirement already satisfied: sympy>=1.13.3 in f:\\study material\\nlp_rag _projects\\.venv\\lib\\site-packages (from torch>=1.11.0->sentence-transformers) (1.14.0)\n",
      "Requirement already satisfied: networkx in f:\\study material\\nlp_rag _projects\\.venv\\lib\\site-packages (from torch>=1.11.0->sentence-transformers) (3.5)\n",
      "Requirement already satisfied: jinja2 in f:\\study material\\nlp_rag _projects\\.venv\\lib\\site-packages (from torch>=1.11.0->sentence-transformers) (3.1.6)\n",
      "Requirement already satisfied: mpmath<1.4,>=1.1.0 in f:\\study material\\nlp_rag _projects\\.venv\\lib\\site-packages (from sympy>=1.13.3->torch>=1.11.0->sentence-transformers) (1.3.0)\n",
      "Requirement already satisfied: colorama in f:\\study material\\nlp_rag _projects\\.venv\\lib\\site-packages (from tqdm->sentence-transformers) (0.4.6)\n",
      "Requirement already satisfied: MarkupSafe>=2.0 in f:\\study material\\nlp_rag _projects\\.venv\\lib\\site-packages (from jinja2->torch>=1.11.0->sentence-transformers) (3.0.2)\n",
      "Requirement already satisfied: charset_normalizer<4,>=2 in f:\\study material\\nlp_rag _projects\\.venv\\lib\\site-packages (from requests->transformers<5.0.0,>=4.41.0->sentence-transformers) (3.4.3)\n",
      "Requirement already satisfied: idna<4,>=2.5 in f:\\study material\\nlp_rag _projects\\.venv\\lib\\site-packages (from requests->transformers<5.0.0,>=4.41.0->sentence-transformers) (3.10)\n",
      "Requirement already satisfied: urllib3<3,>=1.21.1 in f:\\study material\\nlp_rag _projects\\.venv\\lib\\site-packages (from requests->transformers<5.0.0,>=4.41.0->sentence-transformers) (2.5.0)\n",
      "Requirement already satisfied: certifi>=2017.4.17 in f:\\study material\\nlp_rag _projects\\.venv\\lib\\site-packages (from requests->transformers<5.0.0,>=4.41.0->sentence-transformers) (2025.8.3)\n",
      "Requirement already satisfied: joblib>=1.2.0 in f:\\study material\\nlp_rag _projects\\.venv\\lib\\site-packages (from scikit-learn->sentence-transformers) (1.5.2)\n",
      "Requirement already satisfied: threadpoolctl>=3.1.0 in f:\\study material\\nlp_rag _projects\\.venv\\lib\\site-packages (from scikit-learn->sentence-transformers) (3.6.0)\n",
      "Downloading tokenizers-0.22.1-cp39-abi3-win_amd64.whl (2.7 MB)\n",
      "   ---------------------------------------- 0.0/2.7 MB ? eta -:--:--\n",
      "   ---------------------------------------- 0.0/2.7 MB ? eta -:--:--\n",
      "   ---------------------------------------- 0.0/2.7 MB ? eta -:--:--\n",
      "   ---------------------------------------- 0.0/2.7 MB ? eta -:--:--\n",
      "   ---------------------------------------- 0.0/2.7 MB ? eta -:--:--\n",
      "   ---------------------------------------- 0.0/2.7 MB ? eta -:--:--\n",
      "   ---------------------------------------- 0.0/2.7 MB ? eta -:--:--\n",
      "   ---------------------------------------- 0.0/2.7 MB ? eta -:--:--\n",
      "   ---------------------------------------- 0.0/2.7 MB ? eta -:--:--\n",
      "   ---------------------------------------- 0.0/2.7 MB ? eta -:--:--\n",
      "   ---------------------------------------- 0.0/2.7 MB ? eta -:--:--\n",
      "   ---------------------------------------- 0.0/2.7 MB ? eta -:--:--\n",
      "   ---------------------------------------- 0.0/2.7 MB ? eta -:--:--\n",
      "   ---------------------------------------- 0.0/2.7 MB ? eta -:--:--\n",
      "   ---------------------------------------- 0.0/2.7 MB ? eta -:--:--\n",
      "   ---------------------------------------- 0.0/2.7 MB ? eta -:--:--\n",
      "   --- ------------------------------------ 0.3/2.7 MB ? eta -:--:--\n",
      "   --- ------------------------------------ 0.3/2.7 MB ? eta -:--:--\n",
      "   --- ------------------------------------ 0.3/2.7 MB ? eta -:--:--\n",
      "   --- ------------------------------------ 0.3/2.7 MB ? eta -:--:--\n",
      "   --- ------------------------------------ 0.3/2.7 MB ? eta -:--:--\n",
      "   --- ------------------------------------ 0.3/2.7 MB ? eta -:--:--\n",
      "   --- ------------------------------------ 0.3/2.7 MB ? eta -:--:--\n",
      "   --- ------------------------------------ 0.3/2.7 MB ? eta -:--:--\n",
      "   ------- -------------------------------- 0.5/2.7 MB 151.1 kB/s eta 0:00:15\n",
      "   ------- -------------------------------- 0.5/2.7 MB 151.1 kB/s eta 0:00:15\n",
      "   ------- -------------------------------- 0.5/2.7 MB 151.1 kB/s eta 0:00:15\n",
      "   ------- -------------------------------- 0.5/2.7 MB 151.1 kB/s eta 0:00:15\n",
      "   ------- -------------------------------- 0.5/2.7 MB 151.1 kB/s eta 0:00:15\n",
      "   ------- -------------------------------- 0.5/2.7 MB 151.1 kB/s eta 0:00:15\n",
      "   ------- -------------------------------- 0.5/2.7 MB 151.1 kB/s eta 0:00:15\n",
      "   ------- -------------------------------- 0.5/2.7 MB 151.1 kB/s eta 0:00:15\n",
      "   ------- -------------------------------- 0.5/2.7 MB 151.1 kB/s eta 0:00:15\n",
      "   ----------- ---------------------------- 0.8/2.7 MB 139.8 kB/s eta 0:00:14\n",
      "   ----------- ---------------------------- 0.8/2.7 MB 139.8 kB/s eta 0:00:14\n",
      "   ----------- ---------------------------- 0.8/2.7 MB 139.8 kB/s eta 0:00:14\n",
      "   ----------- ---------------------------- 0.8/2.7 MB 139.8 kB/s eta 0:00:14\n",
      "   ----------- ---------------------------- 0.8/2.7 MB 139.8 kB/s eta 0:00:14\n",
      "   ----------- ---------------------------- 0.8/2.7 MB 139.8 kB/s eta 0:00:14\n",
      "   ----------- ---------------------------- 0.8/2.7 MB 139.8 kB/s eta 0:00:14\n",
      "   ----------- ---------------------------- 0.8/2.7 MB 139.8 kB/s eta 0:00:14\n",
      "   ----------- ---------------------------- 0.8/2.7 MB 139.8 kB/s eta 0:00:14\n",
      "   ----------- ---------------------------- 0.8/2.7 MB 139.8 kB/s eta 0:00:14\n",
      "   ----------- ---------------------------- 0.8/2.7 MB 139.8 kB/s eta 0:00:14\n",
      "   ----------- ---------------------------- 0.8/2.7 MB 139.8 kB/s eta 0:00:14\n",
      "   ----------- ---------------------------- 0.8/2.7 MB 139.8 kB/s eta 0:00:14\n",
      "   ----------- ---------------------------- 0.8/2.7 MB 139.8 kB/s eta 0:00:14\n",
      "   ----------- ---------------------------- 0.8/2.7 MB 139.8 kB/s eta 0:00:14\n",
      "   ----------- ---------------------------- 0.8/2.7 MB 139.8 kB/s eta 0:00:14\n",
      "   ----------- ---------------------------- 0.8/2.7 MB 139.8 kB/s eta 0:00:14\n",
      "   ----------- ---------------------------- 0.8/2.7 MB 139.8 kB/s eta 0:00:14\n",
      "   ----------- ---------------------------- 0.8/2.7 MB 139.8 kB/s eta 0:00:14\n",
      "   ----------- ---------------------------- 0.8/2.7 MB 139.8 kB/s eta 0:00:14\n",
      "   ----------- ---------------------------- 0.8/2.7 MB 139.8 kB/s eta 0:00:14\n",
      "   --------------- ------------------------ 1.0/2.7 MB 93.9 kB/s eta 0:00:18\n",
      "   --------------- ------------------------ 1.0/2.7 MB 93.9 kB/s eta 0:00:18\n",
      "   --------------- ------------------------ 1.0/2.7 MB 93.9 kB/s eta 0:00:18\n",
      "   --------------- ------------------------ 1.0/2.7 MB 93.9 kB/s eta 0:00:18\n",
      "   --------------- ------------------------ 1.0/2.7 MB 93.9 kB/s eta 0:00:18\n",
      "   --------------- ------------------------ 1.0/2.7 MB 93.9 kB/s eta 0:00:18\n",
      "   --------------- ------------------------ 1.0/2.7 MB 93.9 kB/s eta 0:00:18\n",
      "   --------------- ------------------------ 1.0/2.7 MB 93.9 kB/s eta 0:00:18\n",
      "   --------------- ------------------------ 1.0/2.7 MB 93.9 kB/s eta 0:00:18\n",
      "   --------------- ------------------------ 1.0/2.7 MB 93.9 kB/s eta 0:00:18\n",
      "   --------------- ------------------------ 1.0/2.7 MB 93.9 kB/s eta 0:00:18\n",
      "   --------------- ------------------------ 1.0/2.7 MB 93.9 kB/s eta 0:00:18\n",
      "   --------------- ------------------------ 1.0/2.7 MB 93.9 kB/s eta 0:00:18\n",
      "   --------------- ------------------------ 1.0/2.7 MB 93.9 kB/s eta 0:00:18\n",
      "   --------------- ------------------------ 1.0/2.7 MB 93.9 kB/s eta 0:00:18\n",
      "   --------------- ------------------------ 1.0/2.7 MB 93.9 kB/s eta 0:00:18\n",
      "   --------------- ------------------------ 1.0/2.7 MB 93.9 kB/s eta 0:00:18\n",
      "   --------------- ------------------------ 1.0/2.7 MB 93.9 kB/s eta 0:00:18\n",
      "   --------------- ------------------------ 1.0/2.7 MB 93.9 kB/s eta 0:00:18\n",
      "   --------------- ------------------------ 1.0/2.7 MB 93.9 kB/s eta 0:00:18\n",
      "   --------------- ------------------------ 1.0/2.7 MB 93.9 kB/s eta 0:00:18\n",
      "   --------------- ------------------------ 1.0/2.7 MB 93.9 kB/s eta 0:00:18\n",
      "   --------------- ------------------------ 1.0/2.7 MB 93.9 kB/s eta 0:00:18\n",
      "   ------------------- -------------------- 1.3/2.7 MB 78.2 kB/s eta 0:00:18\n",
      "   ------------------- -------------------- 1.3/2.7 MB 78.2 kB/s eta 0:00:18\n",
      "   ------------------- -------------------- 1.3/2.7 MB 78.2 kB/s eta 0:00:18\n",
      "   ------------------- -------------------- 1.3/2.7 MB 78.2 kB/s eta 0:00:18\n",
      "   ------------------- -------------------- 1.3/2.7 MB 78.2 kB/s eta 0:00:18\n",
      "   ------------------- -------------------- 1.3/2.7 MB 78.2 kB/s eta 0:00:18\n",
      "   ------------------- -------------------- 1.3/2.7 MB 78.2 kB/s eta 0:00:18\n",
      "   ----------------------- ---------------- 1.6/2.7 MB 88.2 kB/s eta 0:00:13\n",
      "   ----------------------- ---------------- 1.6/2.7 MB 88.2 kB/s eta 0:00:13\n",
      "   ----------------------- ---------------- 1.6/2.7 MB 88.2 kB/s eta 0:00:13\n",
      "   ----------------------- ---------------- 1.6/2.7 MB 88.2 kB/s eta 0:00:13\n",
      "   ----------------------- ---------------- 1.6/2.7 MB 88.2 kB/s eta 0:00:13\n",
      "   ----------------------- ---------------- 1.6/2.7 MB 88.2 kB/s eta 0:00:13\n",
      "   ----------------------- ---------------- 1.6/2.7 MB 88.2 kB/s eta 0:00:13\n",
      "   --------------------------- ------------ 1.8/2.7 MB 96.6 kB/s eta 0:00:09\n",
      "   --------------------------- ------------ 1.8/2.7 MB 96.6 kB/s eta 0:00:09\n",
      "   --------------------------- ------------ 1.8/2.7 MB 96.6 kB/s eta 0:00:09\n",
      "   --------------------------- ------------ 1.8/2.7 MB 96.6 kB/s eta 0:00:09\n",
      "   --------------------------- ------------ 1.8/2.7 MB 96.6 kB/s eta 0:00:09\n",
      "   ------------------------------- -------- 2.1/2.7 MB 105.5 kB/s eta 0:00:06\n",
      "   ------------------------------- -------- 2.1/2.7 MB 105.5 kB/s eta 0:00:06\n",
      "   ------------------------------- -------- 2.1/2.7 MB 105.5 kB/s eta 0:00:06\n",
      "   ------------------------------- -------- 2.1/2.7 MB 105.5 kB/s eta 0:00:06\n",
      "   ------------------------------- -------- 2.1/2.7 MB 105.5 kB/s eta 0:00:06\n",
      "   ----------------------------------- ---- 2.4/2.7 MB 113.4 kB/s eta 0:00:03\n",
      "   ----------------------------------- ---- 2.4/2.7 MB 113.4 kB/s eta 0:00:03\n",
      "   ----------------------------------- ---- 2.4/2.7 MB 113.4 kB/s eta 0:00:03\n",
      "   ----------------------------------- ---- 2.4/2.7 MB 113.4 kB/s eta 0:00:03\n",
      "   ----------------------------------- ---- 2.4/2.7 MB 113.4 kB/s eta 0:00:03\n",
      "   ----------------------------------- ---- 2.4/2.7 MB 113.4 kB/s eta 0:00:03\n",
      "   ----------------------------------- ---- 2.4/2.7 MB 113.4 kB/s eta 0:00:03\n",
      "   ----------------------------------- ---- 2.4/2.7 MB 113.4 kB/s eta 0:00:03\n",
      "   ----------------------------------- ---- 2.4/2.7 MB 113.4 kB/s eta 0:00:03\n",
      "   ----------------------------------- ---- 2.4/2.7 MB 113.4 kB/s eta 0:00:03\n",
      "   ---------------------------------------  2.6/2.7 MB 114.6 kB/s eta 0:00:01\n",
      "   ---------------------------------------- 2.7/2.7 MB 115.9 kB/s  0:00:24\n",
      "Installing collected packages: tokenizers\n",
      "  Attempting uninstall: tokenizers\n",
      "    Found existing installation: tokenizers 0.20.3\n",
      "    Uninstalling tokenizers-0.20.3:\n",
      "      Successfully uninstalled tokenizers-0.20.3\n",
      "Successfully installed tokenizers-0.22.1\n"
     ]
    },
    {
     "name": "stderr",
     "output_type": "stream",
     "text": [
      "ERROR: pip's dependency resolver does not currently take into account all the packages that are installed. This behaviour is the source of the following dependency conflicts.\n",
      "chromadb 0.5.23 requires tokenizers<=0.20.3,>=0.13.2, but you have tokenizers 0.22.1 which is incompatible.\n",
      "langchain-chroma 0.2.6 requires chromadb>=1.0.20, but you have chromadb 0.5.23 which is incompatible.\n"
     ]
    }
   ],
   "source": [
    "!pip install sentence-transformers"
   ]
  },
  {
   "cell_type": "code",
   "execution_count": 28,
   "id": "fce6a1cc",
   "metadata": {},
   "outputs": [
    {
     "data": {
      "text/plain": [
       "HuggingFaceEmbeddings(model_name='sentence-transformers/all-MiniLM-L6-v2', cache_folder=None, model_kwargs={}, encode_kwargs={}, query_encode_kwargs={}, multi_process=False, show_progress=False)"
      ]
     },
     "execution_count": 28,
     "metadata": {},
     "output_type": "execute_result"
    }
   ],
   "source": [
    "### vectore embedding and sparce matrix\n",
    "\n",
    "\n",
    "import os\n",
    "from dotenv import load_dotenv\n",
    "load_dotenv()\n",
    "os.environ[\"HF_token\"]=os.getenv(\"HF_token\")\n",
    "from langchain_huggingface import HuggingFaceEmbeddings\n",
    "embeddings=HuggingFaceEmbeddings(model_name='sentence-transformers/all-MiniLM-L6-v2')\n",
    "embeddings"
   ]
  },
  {
   "cell_type": "code",
   "execution_count": 29,
   "id": "2288f524",
   "metadata": {},
   "outputs": [
    {
     "data": {
      "text/plain": [
       "<pinecone_text.sparse.bm25_encoder.BM25Encoder at 0x1b93630fa50>"
      ]
     },
     "execution_count": 29,
     "metadata": {},
     "output_type": "execute_result"
    }
   ],
   "source": [
    "from pinecone_text.sparse import BM25Encoder\n",
    "bs25_encoder=BM25Encoder().default()\n",
    "bs25_encoder"
   ]
  },
  {
   "cell_type": "code",
   "execution_count": 30,
   "id": "0a5e8b32",
   "metadata": {},
   "outputs": [
    {
     "name": "stderr",
     "output_type": "stream",
     "text": [
      "100%|██████████| 3/3 [00:00<00:00, 17.14it/s]\n"
     ]
    }
   ],
   "source": [
    "sentence=[\n",
    "    \"in 2023 ,I visited paris\",\n",
    "    \"In 2022, I visited New York\",\n",
    "    \"In 2021,I visited New Orleans\",\n",
    "]\n",
    "## TFIDF values on the sentence\n",
    "bs25_encoder.fit(sentence)\n",
    "\n",
    "# store the values to a json file\n",
    "bs25_encoder.dump(\"mb25_values_json\")\n",
    "\n",
    "# load to your BM25ENCODER object\n",
    "bm25_encoder=BM25Encoder().load(\"mb25_values_json\")"
   ]
  },
  {
   "cell_type": "code",
   "execution_count": 31,
   "id": "a238f1bd",
   "metadata": {},
   "outputs": [],
   "source": [
    "retriever=PineconeHybridSearchRetriever(embeddings=embeddings,sparse_encoder=bm25_encoder,index=index)"
   ]
  },
  {
   "cell_type": "code",
   "execution_count": 32,
   "id": "4003137d",
   "metadata": {},
   "outputs": [
    {
     "data": {
      "text/plain": [
       "PineconeHybridSearchRetriever(embeddings=HuggingFaceEmbeddings(model_name='sentence-transformers/all-MiniLM-L6-v2', cache_folder=None, model_kwargs={}, encode_kwargs={}, query_encode_kwargs={}, multi_process=False, show_progress=False), sparse_encoder=<pinecone_text.sparse.bm25_encoder.BM25Encoder object at 0x000001B93791DBD0>, index=<pinecone.db_data.index.Index object at 0x000001B9158F7B90>)"
      ]
     },
     "execution_count": 32,
     "metadata": {},
     "output_type": "execute_result"
    }
   ],
   "source": [
    "retriever"
   ]
  },
  {
   "cell_type": "code",
   "execution_count": 34,
   "id": "9ea76246",
   "metadata": {},
   "outputs": [
    {
     "name": "stderr",
     "output_type": "stream",
     "text": [
      "  0%|          | 0/1 [00:00<?, ?it/s]"
     ]
    },
    {
     "name": "stderr",
     "output_type": "stream",
     "text": [
      "100%|██████████| 1/1 [00:04<00:00,  4.30s/it]\n"
     ]
    }
   ],
   "source": [
    "retriever.add_texts([\"in 2023 ,I visited paris\",\n",
    "    \"In 2022, I visited New York\",\n",
    "    \"In 2021,I visited New Orleans\",])"
   ]
  },
  {
   "cell_type": "code",
   "execution_count": 36,
   "id": "9994cbc4",
   "metadata": {},
   "outputs": [
    {
     "data": {
      "text/plain": [
       "[Document(metadata={'score': 0.204705447}, page_content='in 2023 ,I visited paris'),\n",
       " Document(metadata={'score': 0.201699868}, page_content='In 2022, I visited New York'),\n",
       " Document(metadata={'score': 0.225356236}, page_content='In 2021,I visited New Orleans')]"
      ]
     },
     "execution_count": 36,
     "metadata": {},
     "output_type": "execute_result"
    }
   ],
   "source": [
    "retriever.invoke(\"what city did visit first\")"
   ]
  },
  {
   "cell_type": "code",
   "execution_count": null,
   "id": "1a7a2a1f",
   "metadata": {},
   "outputs": [],
   "source": []
  }
 ],
 "metadata": {
  "kernelspec": {
   "display_name": ".venv",
   "language": "python",
   "name": "python3"
  },
  "language_info": {
   "codemirror_mode": {
    "name": "ipython",
    "version": 3
   },
   "file_extension": ".py",
   "mimetype": "text/x-python",
   "name": "python",
   "nbconvert_exporter": "python",
   "pygments_lexer": "ipython3",
   "version": "3.11.4"
  }
 },
 "nbformat": 4,
 "nbformat_minor": 5
}
